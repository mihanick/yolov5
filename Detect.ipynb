{
 "cells": [
  {
   "cell_type": "code",
   "execution_count": null,
   "metadata": {},
   "outputs": [],
   "source": [
    "from detect import run"
   ]
  },
  {
   "cell_type": "code",
   "execution_count": null,
   "metadata": {},
   "outputs": [],
   "source": [
    "#img = 'data/dwg/images/val'\n",
    "img = 'data/dwg/images/val/c8fae7c9-3788-4d6c-a767-7e26ed098419.bmp'\n",
    "#img = 'data/dwg/images/val/11c4395a-51a1-4c1b-8be7-dd61d30a5681.bmp'\n",
    "run(weights='runs/train/exp/weights/best-s.pt', source=img, nosave=False, save_txt=False, imgsz=512, conf_thres=0.2, iou_thres=0.2, exist_ok=True, line_thickness=1)\n"
   ]
  },
  {
   "cell_type": "code",
   "execution_count": null,
   "metadata": {},
   "outputs": [],
   "source": [
    " !python detect.py --weights runs/train/exp2/weights/best.pt --source data/dwg/images/train/0b8c9c96-5361-47ca-8a60-db6ecbb2170c.bmp --imgsz 512 --conf-thres 0.5 --iou-thres 0.2 --exist-ok --save-txt"
   ]
  },
  {
   "cell_type": "code",
   "execution_count": null,
   "metadata": {},
   "outputs": [],
   "source": [
    "from draw_targets_and_predictions_jupyter import PlotEv\n",
    "PlotEv(weights='runs/train/exp2/weights/best.pt')"
   ]
  },
  {
   "cell_type": "code",
   "execution_count": null,
   "metadata": {},
   "outputs": [],
   "source": []
  }
 ],
 "metadata": {
  "interpreter": {
   "hash": "619ec19d9a8d5fc76fa0e2c68a9495e80dd8386d08d62321b0d98b1241d5f0e2"
  },
  "kernelspec": {
   "display_name": "Python 3",
   "language": "python",
   "name": "python3"
  },
  "language_info": {
   "codemirror_mode": {
    "name": "ipython",
    "version": 3
   },
   "file_extension": ".py",
   "mimetype": "text/x-python",
   "name": "python",
   "nbconvert_exporter": "python",
   "pygments_lexer": "ipython3",
   "version": "3.7.6"
  }
 },
 "nbformat": 4,
 "nbformat_minor": 4
}
