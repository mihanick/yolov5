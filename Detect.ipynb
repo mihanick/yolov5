{
 "cells": [
  {
   "cell_type": "code",
   "execution_count": 1,
   "source": [
    "from detect import run"
   ],
   "outputs": [],
   "metadata": {}
  },
  {
   "cell_type": "code",
   "execution_count": 2,
   "source": [
    "img = 'data/dwg/images/val'\n",
    "#img = 'data/dwg/images/val/c8fae7c9-3788-4d6c-a767-7e26ed098419.bmp'\n",
    "#img = 'data/dwg/images/val/11c4395a-51a1-4c1b-8be7-dd61d30a5681.bmp'\n",
    "run(weights='runs/train/exp/weights/best.pt', source=img, nosave=False, save_txt=False, imgsz=512, conf_thres=0.05, iou_thres=0.05, exist_ok=True, line_thickness=1)\n"
   ],
   "outputs": [
    {
     "output_type": "stream",
     "name": "stderr",
     "text": [
      "YOLOv5 🚀 v5.0-331-gfcb83dc torch 1.9.0+cu102 CPU\n",
      "\n",
      "Fusing layers... \n",
      "/home/mk/anaconda3/lib/python3.7/site-packages/torch/nn/functional.py:718: UserWarning: Named tensors and all their associated APIs are an experimental feature and subject to change. Please do not use them for anything important until they are released as stable. (Triggered internally at  /pytorch/c10/core/TensorImpl.h:1156.)\n",
      "  return torch.max_pool2d(input, kernel_size, stride, padding, dilation, ceil_mode)\n",
      "Model Summary: 224 layers, 7056607 parameters, 0 gradients, 16.3 GFLOPs\n"
     ]
    },
    {
     "output_type": "stream",
     "name": "stdout",
     "text": [
      "image 1/50 /home/mk/yolov5/data/dwg/images/val/00a8a649-9fd0-4295-be49-d9ddbe26cdc6.bmp: 512x512 11 DimExtPnts, 9 DimLinePnts, Done. (0.377s)\n",
      "image 2/50 /home/mk/yolov5/data/dwg/images/val/02d25763-84e3-48dc-9c2f-25af7eddf197.bmp: 512x512 1 DimExtPnt, 2 DimLinePnts, Done. (0.354s)\n",
      "image 3/50 /home/mk/yolov5/data/dwg/images/val/06bd16c3-2076-4b7a-bf5d-506efcebeccd.bmp: 512x512 10 DimExtPnts, 5 DimLinePnts, Done. (0.343s)\n",
      "image 4/50 /home/mk/yolov5/data/dwg/images/val/07c29cd5-49cc-42b0-8a04-9e9c02a323c8.bmp: 512x512 4 DimExtPnts, Done. (0.272s)\n",
      "image 5/50 /home/mk/yolov5/data/dwg/images/val/0d00a448-0cb8-4774-a3ca-d0bc4a6e9aaa.bmp: 512x512 Done. (0.334s)\n",
      "image 6/50 /home/mk/yolov5/data/dwg/images/val/1009fd32-46d6-4301-9a3e-bfd2b5a416a5.bmp: 512x512 4 DimExtPnts, 6 DimLinePnts, Done. (0.548s)\n",
      "image 7/50 /home/mk/yolov5/data/dwg/images/val/11c4395a-51a1-4c1b-8be7-dd61d30a5681.bmp: 512x512 7 DimExtPnts, 3 DimLinePnts, Done. (0.324s)\n",
      "image 8/50 /home/mk/yolov5/data/dwg/images/val/1e30d4fe-5d86-4946-be2d-0448d2900beb.bmp: 512x512 2 DimExtPnts, Done. (0.310s)\n",
      "image 9/50 /home/mk/yolov5/data/dwg/images/val/1f5261f7-20b6-4e93-8bb5-4a5c0cf2270f.bmp: 512x512 9 DimExtPnts, 11 DimLinePnts, Done. (0.308s)\n",
      "image 10/50 /home/mk/yolov5/data/dwg/images/val/20f2457d-39c3-4e5e-8aa4-e3a3178f2461.bmp: 512x512 2 DimExtPnts, Done. (0.280s)\n",
      "image 11/50 /home/mk/yolov5/data/dwg/images/val/22185902-07f8-4829-985a-88e2eb4ffef5.bmp: 512x512 4 DimExtPnts, 3 DimLinePnts, Done. (0.304s)\n",
      "image 12/50 /home/mk/yolov5/data/dwg/images/val/2252c728-855a-4697-9d40-0680e44ecf1d.bmp: 512x512 4 DimExtPnts, 1 DimLinePnt, Done. (0.250s)\n",
      "image 13/50 /home/mk/yolov5/data/dwg/images/val/227959da-4ef3-4a4f-b3b5-8ea3a8fd9866.bmp: 512x512 Done. (0.279s)\n",
      "image 14/50 /home/mk/yolov5/data/dwg/images/val/255bcd71-32ca-4f4c-8e91-ef08ea5f718e.bmp: 512x512 Done. (0.251s)\n",
      "image 15/50 /home/mk/yolov5/data/dwg/images/val/2ab04597-3711-4ca8-a6c7-5821e9c21875.bmp: 512x512 1 DimLinePnt, Done. (0.288s)\n",
      "image 16/50 /home/mk/yolov5/data/dwg/images/val/30454311-a270-49cc-8a01-9a938bbf570a.bmp: 512x512 Done. (0.321s)\n",
      "image 17/50 /home/mk/yolov5/data/dwg/images/val/30ebb6bf-9103-4e9d-b5ce-2da098906f88.bmp: 512x512 Done. (0.276s)\n",
      "image 18/50 /home/mk/yolov5/data/dwg/images/val/3a893922-0ab3-486c-8a80-7a75209ec2ac.bmp: 512x512 20 DimExtPnts, 18 DimLinePnts, Done. (0.324s)\n",
      "image 19/50 /home/mk/yolov5/data/dwg/images/val/446adc04-83fa-4604-8c81-c8c24f915143.bmp: 512x512 6 DimExtPnts, 5 DimLinePnts, Done. (0.233s)\n",
      "image 20/50 /home/mk/yolov5/data/dwg/images/val/4df08305-b39a-499c-ba5d-fd4ed430ae3e.bmp: 512x512 Done. (0.327s)\n",
      "image 21/50 /home/mk/yolov5/data/dwg/images/val/53280fe3-8122-403b-af91-e4a05955f635.bmp: 512x512 5 DimExtPnts, 4 DimLinePnts, Done. (0.282s)\n",
      "image 22/50 /home/mk/yolov5/data/dwg/images/val/585c9e5f-027a-4bb4-844d-57b997275ecb.bmp: 512x512 1 DimLinePnt, Done. (0.279s)\n",
      "image 23/50 /home/mk/yolov5/data/dwg/images/val/5f4f4997-e30b-48ec-8390-da53c67f1613.bmp: 512x512 Done. (0.299s)\n",
      "image 24/50 /home/mk/yolov5/data/dwg/images/val/60da3e62-798d-45e0-99b9-51a53038f3f7.bmp: 512x512 Done. (0.274s)\n",
      "image 25/50 /home/mk/yolov5/data/dwg/images/val/8934aa50-f333-4211-b420-b67e97c408ed.bmp: 512x512 Done. (0.238s)\n",
      "image 26/50 /home/mk/yolov5/data/dwg/images/val/9f07cbd6-407f-4156-ae54-706d8aeea0ea.bmp: 512x512 Done. (0.281s)\n",
      "image 27/50 /home/mk/yolov5/data/dwg/images/val/a5af23b2-6f13-4d72-a4de-704db831f5a1.bmp: 512x512 Done. (0.299s)\n",
      "image 28/50 /home/mk/yolov5/data/dwg/images/val/a5bf7dd3-8552-4cc6-9145-a1db8564ef7e.bmp: 512x512 9 DimExtPnts, 3 DimLinePnts, Done. (0.301s)\n",
      "image 29/50 /home/mk/yolov5/data/dwg/images/val/a605628f-aedc-4430-8e57-66aa86c45ab3.bmp: 512x512 3 DimExtPnts, 1 DimLinePnt, Done. (0.262s)\n",
      "image 30/50 /home/mk/yolov5/data/dwg/images/val/acaee668-54f2-4ebe-9732-841762800b8f.bmp: 512x512 Done. (0.247s)\n",
      "image 31/50 /home/mk/yolov5/data/dwg/images/val/b10ce56d-066b-4ec3-a4b5-ead0d62d16d2.bmp: 512x512 10 DimExtPnts, 6 DimLinePnts, Done. (0.388s)\n",
      "image 32/50 /home/mk/yolov5/data/dwg/images/val/b84e9d71-1abb-471c-baf8-7c28a3cf9162.bmp: 512x512 Done. (0.253s)\n",
      "image 33/50 /home/mk/yolov5/data/dwg/images/val/ba1c4602-4839-45df-82f7-2cc36544b3d8.bmp: 512x512 1 DimExtPnt, 3 DimLinePnts, Done. (0.267s)\n",
      "image 34/50 /home/mk/yolov5/data/dwg/images/val/bbc9c15a-cb03-4bf1-ade8-ba13ce9cd374.bmp: 512x512 Done. (0.240s)\n",
      "image 35/50 /home/mk/yolov5/data/dwg/images/val/c177e56e-de38-4ba5-bcb5-44b16b1a1a8b.bmp: 512x512 Done. (0.284s)\n",
      "image 36/50 /home/mk/yolov5/data/dwg/images/val/c6128249-6faa-486c-8c52-77ae859f3ed0.bmp: 512x512 1 DimExtPnt, Done. (0.285s)\n",
      "image 37/50 /home/mk/yolov5/data/dwg/images/val/c8fae7c9-3788-4d6c-a767-7e26ed098419.bmp: 512x512 27 DimExtPnts, 15 DimLinePnts, Done. (0.302s)\n",
      "image 38/50 /home/mk/yolov5/data/dwg/images/val/cd7c1e80-8cae-40b1-914b-6e31087a9895.bmp: 512x512 1 DimExtPnt, 1 DimLinePnt, Done. (0.269s)\n",
      "image 39/50 /home/mk/yolov5/data/dwg/images/val/ce9309f3-3e32-4bdb-a128-878466fbdc52.bmp: 512x512 13 DimExtPnts, 9 DimLinePnts, Done. (0.261s)\n",
      "image 40/50 /home/mk/yolov5/data/dwg/images/val/ceb8392a-119b-4bc3-8401-b4e08fd0cd79.bmp: 512x512 Done. (0.241s)\n",
      "image 41/50 /home/mk/yolov5/data/dwg/images/val/d4d36919-c120-403f-b03b-239ca8fa71f4.bmp: 512x512 8 DimExtPnts, 7 DimLinePnts, Done. (0.289s)\n",
      "image 42/50 /home/mk/yolov5/data/dwg/images/val/e15c4951-c7f2-4e81-b458-2e55061a407b.bmp: 512x512 2 DimExtPnts, Done. (0.287s)\n",
      "image 43/50 /home/mk/yolov5/data/dwg/images/val/e40aed66-df07-4bcb-8505-0bd02113b1b2.bmp: 512x512 5 DimExtPnts, 23 DimLinePnts, Done. (0.238s)\n",
      "image 44/50 /home/mk/yolov5/data/dwg/images/val/eb42465a-e3b9-4839-bf1a-6c67fa49054c.bmp: 512x512 Done. (0.292s)\n",
      "image 45/50 /home/mk/yolov5/data/dwg/images/val/f48cdd23-5397-4352-96da-ee79eb8caffc.bmp: 512x512 Done. (0.270s)\n",
      "image 46/50 /home/mk/yolov5/data/dwg/images/val/f9106285-ac9d-43be-bb18-9f12014e402b.bmp: 512x512 15 DimExtPnts, 2 DimLinePnts, Done. (0.274s)\n",
      "image 47/50 /home/mk/yolov5/data/dwg/images/val/fb618751-ec8b-4156-ba29-1cb59bbfdb84.bmp: 512x512 1 DimExtPnt, Done. (0.255s)\n",
      "image 48/50 /home/mk/yolov5/data/dwg/images/val/fbb38e21-93ea-4ac6-a6b0-cfe2a44ad21c.bmp: 512x512 Done. (0.261s)\n",
      "image 49/50 /home/mk/yolov5/data/dwg/images/val/fd9638ef-2e96-445f-97df-29fb79ed3fb5.bmp: 512x512 8 DimExtPnts, 6 DimLinePnts, Done. (0.294s)\n",
      "image 50/50 /home/mk/yolov5/data/dwg/images/val/fe40011f-d38a-4762-9d9b-69dc879acfdd.bmp: 512x512 Done. (0.262s)\n",
      "Results saved to runs/detect/exp\n",
      "Done. (15.062s)\n"
     ]
    }
   ],
   "metadata": {}
  },
  {
   "cell_type": "code",
   "execution_count": null,
   "source": [],
   "outputs": [],
   "metadata": {}
  },
  {
   "cell_type": "code",
   "execution_count": null,
   "source": [],
   "outputs": [],
   "metadata": {}
  }
 ],
 "metadata": {
  "kernelspec": {
   "name": "python3",
   "display_name": "Python 3.7.6 64-bit ('base': conda)"
  },
  "language_info": {
   "codemirror_mode": {
    "name": "ipython",
    "version": 3
   },
   "file_extension": ".py",
   "mimetype": "text/x-python",
   "name": "python",
   "nbconvert_exporter": "python",
   "pygments_lexer": "ipython3",
   "version": "3.7.6"
  },
  "interpreter": {
   "hash": "619ec19d9a8d5fc76fa0e2c68a9495e80dd8386d08d62321b0d98b1241d5f0e2"
  }
 },
 "nbformat": 4,
 "nbformat_minor": 4
}