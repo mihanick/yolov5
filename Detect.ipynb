{
 "cells": [
  {
   "cell_type": "code",
   "execution_count": 1,
   "source": [
    "from detect import run"
   ],
   "outputs": [],
   "metadata": {}
  },
  {
   "cell_type": "code",
   "execution_count": 3,
   "source": [
    "img = 'data/dwg/images/val/c8fae7c9-3788-4d6c-a767-7e26ed098419.bmp'\n",
    "#img = 'data/dwg/images/val/11c4395a-51a1-4c1b-8be7-dd61d30a5681.bmp'\n",
    "run(weights='runs/train/exp/weights/best.pt', source=img, nosave=False, save_txt=False, imgsz=512, conf_thres=0.05, iou_thres=0.05, exist_ok=True, line_thickness=1)\n"
   ],
   "outputs": [
    {
     "output_type": "stream",
     "name": "stderr",
     "text": [
      "YOLOv5 🚀 v5.0-330-gd5d3aab torch 1.9.0+cu102 CPU\n",
      "\n",
      "Fusing layers... \n",
      "Model Summary: 224 layers, 7056607 parameters, 0 gradients, 16.3 GFLOPs\n"
     ]
    },
    {
     "output_type": "stream",
     "name": "stdout",
     "text": [
      "image 1/1 /home/mk/yolov5/data/dwg/images/val/c8fae7c9-3788-4d6c-a767-7e26ed098419.bmp: 512x512 27 DimExtPnts, 15 DimLinePnts, Done. (0.317s)\n",
      "Results saved to runs/detect/exp\n",
      "Done. (0.330s)\n"
     ]
    }
   ],
   "metadata": {}
  },
  {
   "cell_type": "code",
   "execution_count": null,
   "source": [],
   "outputs": [],
   "metadata": {}
  },
  {
   "cell_type": "code",
   "execution_count": null,
   "source": [],
   "outputs": [],
   "metadata": {}
  }
 ],
 "metadata": {
  "kernelspec": {
   "name": "python3",
   "display_name": "Python 3.7.6 64-bit ('base': conda)"
  },
  "language_info": {
   "codemirror_mode": {
    "name": "ipython",
    "version": 3
   },
   "file_extension": ".py",
   "mimetype": "text/x-python",
   "name": "python",
   "nbconvert_exporter": "python",
   "pygments_lexer": "ipython3",
   "version": "3.7.6"
  },
  "interpreter": {
   "hash": "619ec19d9a8d5fc76fa0e2c68a9495e80dd8386d08d62321b0d98b1241d5f0e2"
  }
 },
 "nbformat": 4,
 "nbformat_minor": 4
}